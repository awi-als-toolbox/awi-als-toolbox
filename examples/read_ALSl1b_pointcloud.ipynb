{
 "cells": [
  {
   "cell_type": "markdown",
   "metadata": {},
   "source": [
    "## Preparations\n",
    "\n",
    "Make sure that module can be exported in notebook"
   ]
  },
  {
   "cell_type": "code",
   "execution_count": 50,
   "metadata": {},
   "outputs": [],
   "source": [
    "import sys\n",
    "sys.path.append('../')"
   ]
  },
  {
   "cell_type": "markdown",
   "metadata": {},
   "source": [
    "## Read ALS Level-1 point cloud file\n",
    "\n",
    "Point cloud data from the airborne laserscanner is of processing level 1b. The product consists of structured binary files that contain a header column, a mapping variable that allows to read selected parts of the data sequentially and the data itself.\n",
    "\n",
    "Accessing the data is a two step process:\n",
    "\n",
    "### Connect to Metadata and time mapping\n",
    "\n",
    "Connecting the binary file. In this step the metadata and time mapping variable will be parsed. This information is necessary to decode the structured binary file and allow reading only selected portions of the data file\n"
   ]
  },
  {
   "cell_type": "code",
   "execution_count": 51,
   "metadata": {},
   "outputs": [],
   "source": [
    "from awi_als_toolbox import AirborneLaserScannerFile\n",
    "als_file = AirborneLaserScannerFile(\"ALS_L1B_20191020T014548_014709_orig\", device_name_override=\"VQ580\")"
   ]
  },
  {
   "cell_type": "markdown",
   "metadata": {},
   "source": [
    "Notes:\n",
    "- The laserscanner file is not part of the github repository\n",
    "- the optional keyword `device_name_override` due to a limitation in the naming of scanners in the original L1B data\n",
    "\n",
    "\n",
    "#### Header Information\n",
    "\n",
    "The header information returned by `AirborneLaserScannerFile` can be found in the property `header`, which again has a list of properties:\n"
   ]
  },
  {
   "cell_type": "code",
   "execution_count": 52,
   "metadata": {},
   "outputs": [
    {
     "output_type": "execute_result",
     "data": {
      "text/plain": "{'device_name_override': 'VQ580',\n 'byte_size': 37,\n 'scan_lines': 6727,\n 'data_points_per_line': 1500,\n 'bytes_per_line': 48000,\n 'bytes_sec_line': 26908,\n 'year': 2019,\n 'month': 10,\n 'day': 20,\n 'start_time_sec': 6348,\n 'stop_time_sec': 6428,\n 'device_name': 'VQ580',\n '_status': 0,\n '_status_context': ''}"
     },
     "metadata": {},
     "execution_count": 52
    }
   ],
   "source": [
    "als_file.header.__dict__"
   ]
  },
  {
   "cell_type": "markdown",
   "metadata": {},
   "source": [
    "#### Start and End Time of the file\n",
    "\n",
    "The selection of indiviual segments of the data file is realized by the timestamp, defined as the second since the start of of the UTC day. Usually between 0 and 86400, the expected behaviour for a date change in a file are seconds > 86400. The selection of data segments can only be done to the full second (integer values).\n",
    "\n",
    "#### Order of data points\n",
    "\n",
    "For historical reasons, the scanner data is ordered in 2D structures with the dimensions: (number of scan lines, data points per scan lines). Newer scanners however report multiple backscatter sources per shot and thus the number of data points per scan lines is not constant. In the processing, this is accounted for a larger number of data points per scan line than from the pulse-repetition frequency alone. Unused array entries in the buffer are set to NaN.\n",
    "\n",
    "NOTE: This will be revisited in future updates of the processing workflow, which will only a contain a list of valid returns\n",
    "\n",
    "### Extract data\n",
    "\n",
    "The `get_data()` method can be used to parse and decode the binary data. Without any arguments, the entire file will be parsed:"
   ]
  },
  {
   "cell_type": "code",
   "execution_count": 53,
   "metadata": {},
   "outputs": [
    {
     "output_type": "stream",
     "name": "stderr",
     "text": "2020-06-10 11:35:10.083 | DEBUG    | awi_als_toolbox.reader:_get_line_range:239 - Line Range: 0 - 6631\n"
    },
    {
     "output_type": "execute_result",
     "data": {
      "text/plain": "(6632, 1500)"
     },
     "metadata": {},
     "execution_count": 53
    }
   ],
   "source": [
    "als = als_file.get_data()\n",
    "als.dims"
   ]
  },
  {
   "cell_type": "markdown",
   "metadata": {},
   "source": [
    "Specifying a time coverage in seconds will result only to read a segment of the file, e.g. a 5 second segment:"
   ]
  },
  {
   "cell_type": "code",
   "execution_count": 54,
   "metadata": {},
   "outputs": [
    {
     "output_type": "stream",
     "name": "stderr",
     "text": "2020-06-10 11:35:13.464 | DEBUG    | awi_als_toolbox.reader:_get_line_range:239 - Line Range: 131 - 405\n"
    },
    {
     "output_type": "execute_result",
     "data": {
      "text/plain": "(275, 1500)"
     },
     "metadata": {},
     "execution_count": 54
    }
   ],
   "source": [
    "als = als_file.get_data(6350, 6355)\n",
    "als.dims"
   ]
  },
  {
   "cell_type": "markdown",
   "metadata": {},
   "source": [
    "The als data object has the following data properties\n",
    "\n",
    "1. Time (UTC timestamp)\n",
    "2. Longitude (degrees east)\n",
    "3. Latitude (degrees)\n",
    "4. Elevation (WGS84 elevations for L1B data files)"
   ]
  },
  {
   "cell_type": "code",
   "execution_count": 55,
   "metadata": {},
   "outputs": [
    {
     "output_type": "execute_result",
     "data": {
      "text/plain": "datetime.datetime(2019, 10, 20, 1, 45, 50, 534)"
     },
     "metadata": {},
     "execution_count": 55
    }
   ],
   "source": [
    "als.time[0, 0]\n",
    "\n",
    "from datetime import datetime\n",
    "datetime.utcfromtimestamp(als.time[0, 0])"
   ]
  },
  {
   "cell_type": "code",
   "execution_count": 56,
   "metadata": {},
   "outputs": [
    {
     "output_type": "execute_result",
     "data": {
      "text/plain": "132.70984263452954"
     },
     "metadata": {},
     "execution_count": 56
    }
   ],
   "source": [
    "als.longitude[0, 0]"
   ]
  },
  {
   "cell_type": "code",
   "execution_count": 57,
   "metadata": {},
   "outputs": [
    {
     "output_type": "execute_result",
     "data": {
      "text/plain": "85.00383585731474"
     },
     "metadata": {},
     "execution_count": 57
    }
   ],
   "source": [
    "als.latitude[0, 0]"
   ]
  },
  {
   "cell_type": "code",
   "execution_count": 58,
   "metadata": {},
   "outputs": [
    {
     "output_type": "execute_result",
     "data": {
      "text/plain": "6.764528128318489"
     },
     "metadata": {},
     "execution_count": 58
    }
   ],
   "source": [
    "als.elevation[0, 0]"
   ]
  },
  {
   "cell_type": "code",
   "execution_count": 65,
   "metadata": {},
   "outputs": [
    {
     "output_type": "display_data",
     "data": {
      "text/plain": "<Figure size 432x288 with 1 Axes>",
      "image/svg+xml": "<?xml version=\"1.0\" encoding=\"utf-8\" standalone=\"no\"?>\r\n<!DOCTYPE svg PUBLIC \"-//W3C//DTD SVG 1.1//EN\"\r\n  \"http://www.w3.org/Graphics/SVG/1.1/DTD/svg11.dtd\">\r\n<!-- Created with matplotlib (https://matplotlib.org/) -->\r\n<svg height=\"248.518125pt\" version=\"1.1\" viewBox=\"0 0 388.0125 248.518125\" width=\"388.0125pt\" xmlns=\"http://www.w3.org/2000/svg\" xmlns:xlink=\"http://www.w3.org/1999/xlink\">\r\n <defs>\r\n  <style type=\"text/css\">\r\n*{stroke-linecap:butt;stroke-linejoin:round;}\r\n  </style>\r\n </defs>\r\n <g id=\"figure_1\">\r\n  <g id=\"patch_1\">\r\n   <path d=\"M 0 248.518125 \r\nL 388.0125 248.518125 \r\nL 388.0125 0 \r\nL 0 0 \r\nz\r\n\" style=\"fill:none;\"/>\r\n  </g>\r\n  <g id=\"axes_1\">\r\n   <g id=\"patch_2\">\r\n    <path d=\"M 46.0125 224.64 \r\nL 380.8125 224.64 \r\nL 380.8125 7.2 \r\nL 46.0125 7.2 \r\nz\r\n\" style=\"fill:#ffffff;\"/>\r\n   </g>\r\n   <g id=\"patch_3\">\r\n    <path clip-path=\"url(#p3f9e769292)\" d=\"M 61.230682 224.64 \r\nL 64.274318 224.64 \r\nL 64.274318 224.590676 \r\nL 61.230682 224.590676 \r\nz\r\n\" style=\"fill:#1f77b4;\"/>\r\n   </g>\r\n   <g id=\"patch_4\">\r\n    <path clip-path=\"url(#p3f9e769292)\" d=\"M 64.274318 224.64 \r\nL 67.317955 224.64 \r\nL 67.317955 224.435115 \r\nL 64.274318 224.435115 \r\nz\r\n\" style=\"fill:#1f77b4;\"/>\r\n   </g>\r\n   <g id=\"patch_5\">\r\n    <path clip-path=\"url(#p3f9e769292)\" d=\"M 67.317955 224.64 \r\nL 70.361591 224.64 \r\nL 70.361591 223.585221 \r\nL 67.317955 223.585221 \r\nz\r\n\" style=\"fill:#1f77b4;\"/>\r\n   </g>\r\n   <g id=\"patch_6\">\r\n    <path clip-path=\"url(#p3f9e769292)\" d=\"M 70.361591 224.64 \r\nL 73.405227 224.64 \r\nL 73.405227 219.992144 \r\nL 70.361591 219.992144 \r\nz\r\n\" style=\"fill:#1f77b4;\"/>\r\n   </g>\r\n   <g id=\"patch_7\">\r\n    <path clip-path=\"url(#p3f9e769292)\" d=\"M 73.405227 224.64 \r\nL 76.448864 224.64 \r\nL 76.448864 208.814523 \r\nL 73.405227 208.814523 \r\nz\r\n\" style=\"fill:#1f77b4;\"/>\r\n   </g>\r\n   <g id=\"patch_8\">\r\n    <path clip-path=\"url(#p3f9e769292)\" d=\"M 76.448864 224.64 \r\nL 79.4925 224.64 \r\nL 79.4925 181.860751 \r\nL 76.448864 181.860751 \r\nz\r\n\" style=\"fill:#1f77b4;\"/>\r\n   </g>\r\n   <g id=\"patch_9\">\r\n    <path clip-path=\"url(#p3f9e769292)\" d=\"M 79.4925 224.64 \r\nL 82.536136 224.64 \r\nL 82.536136 138.592054 \r\nL 79.4925 138.592054 \r\nz\r\n\" style=\"fill:#1f77b4;\"/>\r\n   </g>\r\n   <g id=\"patch_10\">\r\n    <path clip-path=\"url(#p3f9e769292)\" d=\"M 82.536136 224.64 \r\nL 85.579773 224.64 \r\nL 85.579773 102.9724 \r\nL 82.536136 102.9724 \r\nz\r\n\" style=\"fill:#1f77b4;\"/>\r\n   </g>\r\n   <g id=\"patch_11\">\r\n    <path clip-path=\"url(#p3f9e769292)\" d=\"M 85.579773 224.64 \r\nL 88.623409 224.64 \r\nL 88.623409 106.777951 \r\nL 85.579773 106.777951 \r\nz\r\n\" style=\"fill:#1f77b4;\"/>\r\n   </g>\r\n   <g id=\"patch_12\">\r\n    <path clip-path=\"url(#p3f9e769292)\" d=\"M 88.623409 224.64 \r\nL 91.667045 224.64 \r\nL 91.667045 132.221645 \r\nL 88.623409 132.221645 \r\nz\r\n\" style=\"fill:#1f77b4;\"/>\r\n   </g>\r\n   <g id=\"patch_13\">\r\n    <path clip-path=\"url(#p3f9e769292)\" d=\"M 91.667045 224.64 \r\nL 94.710682 224.64 \r\nL 94.710682 92.420818 \r\nL 91.667045 92.420818 \r\nz\r\n\" style=\"fill:#1f77b4;\"/>\r\n   </g>\r\n   <g id=\"patch_14\">\r\n    <path clip-path=\"url(#p3f9e769292)\" d=\"M 94.710682 224.64 \r\nL 97.754318 224.64 \r\nL 97.754318 40.103029 \r\nL 94.710682 40.103029 \r\nz\r\n\" style=\"fill:#1f77b4;\"/>\r\n   </g>\r\n   <g id=\"patch_15\">\r\n    <path clip-path=\"url(#p3f9e769292)\" d=\"M 97.754318 224.64 \r\nL 100.797955 224.64 \r\nL 100.797955 17.554286 \r\nL 97.754318 17.554286 \r\nz\r\n\" style=\"fill:#1f77b4;\"/>\r\n   </g>\r\n   <g id=\"patch_16\">\r\n    <path clip-path=\"url(#p3f9e769292)\" d=\"M 100.797955 224.64 \r\nL 103.841591 224.64 \r\nL 103.841591 74.884171 \r\nL 100.797955 74.884171 \r\nz\r\n\" style=\"fill:#1f77b4;\"/>\r\n   </g>\r\n   <g id=\"patch_17\">\r\n    <path clip-path=\"url(#p3f9e769292)\" d=\"M 103.841591 224.64 \r\nL 106.885227 224.64 \r\nL 106.885227 138.144342 \r\nL 103.841591 138.144342 \r\nz\r\n\" style=\"fill:#1f77b4;\"/>\r\n   </g>\r\n   <g id=\"patch_18\">\r\n    <path clip-path=\"url(#p3f9e769292)\" d=\"M 106.885227 224.64 \r\nL 109.928864 224.64 \r\nL 109.928864 163.079617 \r\nL 106.885227 163.079617 \r\nz\r\n\" style=\"fill:#1f77b4;\"/>\r\n   </g>\r\n   <g id=\"patch_19\">\r\n    <path clip-path=\"url(#p3f9e769292)\" d=\"M 109.928864 224.64 \r\nL 112.9725 224.64 \r\nL 112.9725 178.567412 \r\nL 109.928864 178.567412 \r\nz\r\n\" style=\"fill:#1f77b4;\"/>\r\n   </g>\r\n   <g id=\"patch_20\">\r\n    <path clip-path=\"url(#p3f9e769292)\" d=\"M 112.9725 224.64 \r\nL 116.016136 224.64 \r\nL 116.016136 188.769931 \r\nL 112.9725 188.769931 \r\nz\r\n\" style=\"fill:#1f77b4;\"/>\r\n   </g>\r\n   <g id=\"patch_21\">\r\n    <path clip-path=\"url(#p3f9e769292)\" d=\"M 116.016136 224.64 \r\nL 119.059773 224.64 \r\nL 119.059773 196.745274 \r\nL 116.016136 196.745274 \r\nz\r\n\" style=\"fill:#1f77b4;\"/>\r\n   </g>\r\n   <g id=\"patch_22\">\r\n    <path clip-path=\"url(#p3f9e769292)\" d=\"M 119.059773 224.64 \r\nL 122.103409 224.64 \r\nL 122.103409 201.950873 \r\nL 119.059773 201.950873 \r\nz\r\n\" style=\"fill:#1f77b4;\"/>\r\n   </g>\r\n   <g id=\"patch_23\">\r\n    <path clip-path=\"url(#p3f9e769292)\" d=\"M 122.103409 224.64 \r\nL 125.147045 224.64 \r\nL 125.147045 206.139635 \r\nL 122.103409 206.139635 \r\nz\r\n\" style=\"fill:#1f77b4;\"/>\r\n   </g>\r\n   <g id=\"patch_24\">\r\n    <path clip-path=\"url(#p3f9e769292)\" d=\"M 125.147045 224.64 \r\nL 128.190682 224.64 \r\nL 128.190682 209.053556 \r\nL 125.147045 209.053556 \r\nz\r\n\" style=\"fill:#1f77b4;\"/>\r\n   </g>\r\n   <g id=\"patch_25\">\r\n    <path clip-path=\"url(#p3f9e769292)\" d=\"M 128.190682 224.64 \r\nL 131.234318 224.64 \r\nL 131.234318 210.95064 \r\nL 128.190682 210.95064 \r\nz\r\n\" style=\"fill:#1f77b4;\"/>\r\n   </g>\r\n   <g id=\"patch_26\">\r\n    <path clip-path=\"url(#p3f9e769292)\" d=\"M 131.234318 224.64 \r\nL 134.277955 224.64 \r\nL 134.277955 212.699752 \r\nL 131.234318 212.699752 \r\nz\r\n\" style=\"fill:#1f77b4;\"/>\r\n   </g>\r\n   <g id=\"patch_27\">\r\n    <path clip-path=\"url(#p3f9e769292)\" d=\"M 134.277955 224.64 \r\nL 137.321591 224.64 \r\nL 137.321591 214.300891 \r\nL 134.277955 214.300891 \r\nz\r\n\" style=\"fill:#1f77b4;\"/>\r\n   </g>\r\n   <g id=\"patch_28\">\r\n    <path clip-path=\"url(#p3f9e769292)\" d=\"M 137.321591 224.64 \r\nL 140.365227 224.64 \r\nL 140.365227 215.613673 \r\nL 137.321591 215.613673 \r\nz\r\n\" style=\"fill:#1f77b4;\"/>\r\n   </g>\r\n   <g id=\"patch_29\">\r\n    <path clip-path=\"url(#p3f9e769292)\" d=\"M 140.365227 224.64 \r\nL 143.408864 224.64 \r\nL 143.408864 216.880926 \r\nL 140.365227 216.880926 \r\nz\r\n\" style=\"fill:#1f77b4;\"/>\r\n   </g>\r\n   <g id=\"patch_30\">\r\n    <path clip-path=\"url(#p3f9e769292)\" d=\"M 143.408864 224.64 \r\nL 146.4525 224.64 \r\nL 146.4525 218.29615 \r\nL 143.408864 218.29615 \r\nz\r\n\" style=\"fill:#1f77b4;\"/>\r\n   </g>\r\n   <g id=\"patch_31\">\r\n    <path clip-path=\"url(#p3f9e769292)\" d=\"M 146.4525 224.64 \r\nL 149.496136 224.64 \r\nL 149.496136 219.020837 \r\nL 146.4525 219.020837 \r\nz\r\n\" style=\"fill:#1f77b4;\"/>\r\n   </g>\r\n   <g id=\"patch_32\">\r\n    <path clip-path=\"url(#p3f9e769292)\" d=\"M 149.496136 224.64 \r\nL 152.539773 224.64 \r\nL 152.539773 220.238765 \r\nL 149.496136 220.238765 \r\nz\r\n\" style=\"fill:#1f77b4;\"/>\r\n   </g>\r\n   <g id=\"patch_33\">\r\n    <path clip-path=\"url(#p3f9e769292)\" d=\"M 152.539773 224.64 \r\nL 155.583409 224.64 \r\nL 155.583409 221.414957 \r\nL 152.539773 221.414957 \r\nz\r\n\" style=\"fill:#1f77b4;\"/>\r\n   </g>\r\n   <g id=\"patch_34\">\r\n    <path clip-path=\"url(#p3f9e769292)\" d=\"M 155.583409 224.64 \r\nL 158.627045 224.64 \r\nL 158.627045 221.88164 \r\nL 155.583409 221.88164 \r\nz\r\n\" style=\"fill:#1f77b4;\"/>\r\n   </g>\r\n   <g id=\"patch_35\">\r\n    <path clip-path=\"url(#p3f9e769292)\" d=\"M 158.627045 224.64 \r\nL 161.670682 224.64 \r\nL 161.670682 222.443176 \r\nL 158.627045 222.443176 \r\nz\r\n\" style=\"fill:#1f77b4;\"/>\r\n   </g>\r\n   <g id=\"patch_36\">\r\n    <path clip-path=\"url(#p3f9e769292)\" d=\"M 161.670682 224.64 \r\nL 164.714318 224.64 \r\nL 164.714318 222.667032 \r\nL 161.670682 222.667032 \r\nz\r\n\" style=\"fill:#1f77b4;\"/>\r\n   </g>\r\n   <g id=\"patch_37\">\r\n    <path clip-path=\"url(#p3f9e769292)\" d=\"M 164.714318 224.64 \r\nL 167.757955 224.64 \r\nL 167.757955 222.871917 \r\nL 164.714318 222.871917 \r\nz\r\n\" style=\"fill:#1f77b4;\"/>\r\n   </g>\r\n   <g id=\"patch_38\">\r\n    <path clip-path=\"url(#p3f9e769292)\" d=\"M 167.757955 224.64 \r\nL 170.801591 224.64 \r\nL 170.801591 223.24754 \r\nL 167.757955 223.24754 \r\nz\r\n\" style=\"fill:#1f77b4;\"/>\r\n   </g>\r\n   <g id=\"patch_39\">\r\n    <path clip-path=\"url(#p3f9e769292)\" d=\"M 170.801591 224.64 \r\nL 173.845227 224.64 \r\nL 173.845227 223.224775 \r\nL 170.801591 223.224775 \r\nz\r\n\" style=\"fill:#1f77b4;\"/>\r\n   </g>\r\n   <g id=\"patch_40\">\r\n    <path clip-path=\"url(#p3f9e769292)\" d=\"M 173.845227 224.64 \r\nL 176.888864 224.64 \r\nL 176.888864 223.501749 \r\nL 173.845227 223.501749 \r\nz\r\n\" style=\"fill:#1f77b4;\"/>\r\n   </g>\r\n   <g id=\"patch_41\">\r\n    <path clip-path=\"url(#p3f9e769292)\" d=\"M 176.888864 224.64 \r\nL 179.9325 224.64 \r\nL 179.9325 223.596604 \r\nL 176.888864 223.596604 \r\nz\r\n\" style=\"fill:#1f77b4;\"/>\r\n   </g>\r\n   <g id=\"patch_42\">\r\n    <path clip-path=\"url(#p3f9e769292)\" d=\"M 179.9325 224.64 \r\nL 182.976136 224.64 \r\nL 182.976136 223.759753 \r\nL 179.9325 223.759753 \r\nz\r\n\" style=\"fill:#1f77b4;\"/>\r\n   </g>\r\n   <g id=\"patch_43\">\r\n    <path clip-path=\"url(#p3f9e769292)\" d=\"M 182.976136 224.64 \r\nL 186.019773 224.64 \r\nL 186.019773 223.847019 \r\nL 182.976136 223.847019 \r\nz\r\n\" style=\"fill:#1f77b4;\"/>\r\n   </g>\r\n   <g id=\"patch_44\">\r\n    <path clip-path=\"url(#p3f9e769292)\" d=\"M 186.019773 224.64 \r\nL 189.063409 224.64 \r\nL 189.063409 223.972226 \r\nL 186.019773 223.972226 \r\nz\r\n\" style=\"fill:#1f77b4;\"/>\r\n   </g>\r\n   <g id=\"patch_45\">\r\n    <path clip-path=\"url(#p3f9e769292)\" d=\"M 189.063409 224.64 \r\nL 192.107045 224.64 \r\nL 192.107045 224.00258 \r\nL 189.063409 224.00258 \r\nz\r\n\" style=\"fill:#1f77b4;\"/>\r\n   </g>\r\n   <g id=\"patch_46\">\r\n    <path clip-path=\"url(#p3f9e769292)\" d=\"M 192.107045 224.64 \r\nL 195.150682 224.64 \r\nL 195.150682 224.146758 \r\nL 192.107045 224.146758 \r\nz\r\n\" style=\"fill:#1f77b4;\"/>\r\n   </g>\r\n   <g id=\"patch_47\">\r\n    <path clip-path=\"url(#p3f9e769292)\" d=\"M 195.150682 224.64 \r\nL 198.194318 224.64 \r\nL 198.194318 224.1847 \r\nL 195.150682 224.1847 \r\nz\r\n\" style=\"fill:#1f77b4;\"/>\r\n   </g>\r\n   <g id=\"patch_48\">\r\n    <path clip-path=\"url(#p3f9e769292)\" d=\"M 198.194318 224.64 \r\nL 201.237955 224.64 \r\nL 201.237955 224.241612 \r\nL 198.194318 224.241612 \r\nz\r\n\" style=\"fill:#1f77b4;\"/>\r\n   </g>\r\n   <g id=\"patch_49\">\r\n    <path clip-path=\"url(#p3f9e769292)\" d=\"M 201.237955 224.64 \r\nL 204.281591 224.64 \r\nL 204.281591 224.241612 \r\nL 201.237955 224.241612 \r\nz\r\n\" style=\"fill:#1f77b4;\"/>\r\n   </g>\r\n   <g id=\"patch_50\">\r\n    <path clip-path=\"url(#p3f9e769292)\" d=\"M 204.281591 224.64 \r\nL 207.325227 224.64 \r\nL 207.325227 224.256789 \r\nL 204.281591 224.256789 \r\nz\r\n\" style=\"fill:#1f77b4;\"/>\r\n   </g>\r\n   <g id=\"patch_51\">\r\n    <path clip-path=\"url(#p3f9e769292)\" d=\"M 207.325227 224.64 \r\nL 210.368864 224.64 \r\nL 210.368864 224.351643 \r\nL 207.325227 224.351643 \r\nz\r\n\" style=\"fill:#1f77b4;\"/>\r\n   </g>\r\n   <g id=\"patch_52\">\r\n    <path clip-path=\"url(#p3f9e769292)\" d=\"M 210.368864 224.64 \r\nL 213.4125 224.64 \r\nL 213.4125 224.36682 \r\nL 210.368864 224.36682 \r\nz\r\n\" style=\"fill:#1f77b4;\"/>\r\n   </g>\r\n   <g id=\"patch_53\">\r\n    <path clip-path=\"url(#p3f9e769292)\" d=\"M 213.4125 224.64 \r\nL 216.456136 224.64 \r\nL 216.456136 224.328878 \r\nL 213.4125 224.328878 \r\nz\r\n\" style=\"fill:#1f77b4;\"/>\r\n   </g>\r\n   <g id=\"patch_54\">\r\n    <path clip-path=\"url(#p3f9e769292)\" d=\"M 216.456136 224.64 \r\nL 219.499773 224.64 \r\nL 219.499773 224.423732 \r\nL 216.456136 224.423732 \r\nz\r\n\" style=\"fill:#1f77b4;\"/>\r\n   </g>\r\n   <g id=\"patch_55\">\r\n    <path clip-path=\"url(#p3f9e769292)\" d=\"M 219.499773 224.64 \r\nL 222.543409 224.64 \r\nL 222.543409 224.438909 \r\nL 219.499773 224.438909 \r\nz\r\n\" style=\"fill:#1f77b4;\"/>\r\n   </g>\r\n   <g id=\"patch_56\">\r\n    <path clip-path=\"url(#p3f9e769292)\" d=\"M 222.543409 224.64 \r\nL 225.587045 224.64 \r\nL 225.587045 224.499616 \r\nL 222.543409 224.499616 \r\nz\r\n\" style=\"fill:#1f77b4;\"/>\r\n   </g>\r\n   <g id=\"patch_57\">\r\n    <path clip-path=\"url(#p3f9e769292)\" d=\"M 225.587045 224.64 \r\nL 228.630682 224.64 \r\nL 228.630682 224.45788 \r\nL 225.587045 224.45788 \r\nz\r\n\" style=\"fill:#1f77b4;\"/>\r\n   </g>\r\n   <g id=\"patch_58\">\r\n    <path clip-path=\"url(#p3f9e769292)\" d=\"M 228.630682 224.64 \r\nL 231.674318 224.64 \r\nL 231.674318 224.461674 \r\nL 228.630682 224.461674 \r\nz\r\n\" style=\"fill:#1f77b4;\"/>\r\n   </g>\r\n   <g id=\"patch_59\">\r\n    <path clip-path=\"url(#p3f9e769292)\" d=\"M 231.674318 224.64 \r\nL 234.717955 224.64 \r\nL 234.717955 224.533763 \r\nL 231.674318 224.533763 \r\nz\r\n\" style=\"fill:#1f77b4;\"/>\r\n   </g>\r\n   <g id=\"patch_60\">\r\n    <path clip-path=\"url(#p3f9e769292)\" d=\"M 234.717955 224.64 \r\nL 237.761591 224.64 \r\nL 237.761591 224.526175 \r\nL 234.717955 224.526175 \r\nz\r\n\" style=\"fill:#1f77b4;\"/>\r\n   </g>\r\n   <g id=\"patch_61\">\r\n    <path clip-path=\"url(#p3f9e769292)\" d=\"M 237.761591 224.64 \r\nL 240.805227 224.64 \r\nL 240.805227 224.537557 \r\nL 237.761591 224.537557 \r\nz\r\n\" style=\"fill:#1f77b4;\"/>\r\n   </g>\r\n   <g id=\"patch_62\">\r\n    <path clip-path=\"url(#p3f9e769292)\" d=\"M 240.805227 224.64 \r\nL 243.848864 224.64 \r\nL 243.848864 224.564117 \r\nL 240.805227 224.564117 \r\nz\r\n\" style=\"fill:#1f77b4;\"/>\r\n   </g>\r\n   <g id=\"patch_63\">\r\n    <path clip-path=\"url(#p3f9e769292)\" d=\"M 243.848864 224.64 \r\nL 246.8925 224.64 \r\nL 246.8925 224.529969 \r\nL 243.848864 224.529969 \r\nz\r\n\" style=\"fill:#1f77b4;\"/>\r\n   </g>\r\n   <g id=\"patch_64\">\r\n    <path clip-path=\"url(#p3f9e769292)\" d=\"M 246.8925 224.64 \r\nL 249.936136 224.64 \r\nL 249.936136 224.556528 \r\nL 246.8925 224.556528 \r\nz\r\n\" style=\"fill:#1f77b4;\"/>\r\n   </g>\r\n   <g id=\"patch_65\">\r\n    <path clip-path=\"url(#p3f9e769292)\" d=\"M 249.936136 224.64 \r\nL 252.979773 224.64 \r\nL 252.979773 224.552734 \r\nL 249.936136 224.552734 \r\nz\r\n\" style=\"fill:#1f77b4;\"/>\r\n   </g>\r\n   <g id=\"patch_66\">\r\n    <path clip-path=\"url(#p3f9e769292)\" d=\"M 252.979773 224.64 \r\nL 256.023409 224.64 \r\nL 256.023409 224.579293 \r\nL 252.979773 224.579293 \r\nz\r\n\" style=\"fill:#1f77b4;\"/>\r\n   </g>\r\n   <g id=\"patch_67\">\r\n    <path clip-path=\"url(#p3f9e769292)\" d=\"M 256.023409 224.64 \r\nL 259.067045 224.64 \r\nL 259.067045 224.571705 \r\nL 256.023409 224.571705 \r\nz\r\n\" style=\"fill:#1f77b4;\"/>\r\n   </g>\r\n   <g id=\"patch_68\">\r\n    <path clip-path=\"url(#p3f9e769292)\" d=\"M 259.067045 224.64 \r\nL 262.110682 224.64 \r\nL 262.110682 224.59447 \r\nL 259.067045 224.59447 \r\nz\r\n\" style=\"fill:#1f77b4;\"/>\r\n   </g>\r\n   <g id=\"patch_69\">\r\n    <path clip-path=\"url(#p3f9e769292)\" d=\"M 262.110682 224.64 \r\nL 265.154318 224.64 \r\nL 265.154318 224.571705 \r\nL 262.110682 224.571705 \r\nz\r\n\" style=\"fill:#1f77b4;\"/>\r\n   </g>\r\n   <g id=\"patch_70\">\r\n    <path clip-path=\"url(#p3f9e769292)\" d=\"M 265.154318 224.64 \r\nL 268.197955 224.64 \r\nL 268.197955 224.583087 \r\nL 265.154318 224.583087 \r\nz\r\n\" style=\"fill:#1f77b4;\"/>\r\n   </g>\r\n   <g id=\"patch_71\">\r\n    <path clip-path=\"url(#p3f9e769292)\" d=\"M 268.197955 224.64 \r\nL 271.241591 224.64 \r\nL 271.241591 224.59447 \r\nL 268.197955 224.59447 \r\nz\r\n\" style=\"fill:#1f77b4;\"/>\r\n   </g>\r\n   <g id=\"patch_72\">\r\n    <path clip-path=\"url(#p3f9e769292)\" d=\"M 271.241591 224.64 \r\nL 274.285227 224.64 \r\nL 274.285227 224.613441 \r\nL 271.241591 224.613441 \r\nz\r\n\" style=\"fill:#1f77b4;\"/>\r\n   </g>\r\n   <g id=\"patch_73\">\r\n    <path clip-path=\"url(#p3f9e769292)\" d=\"M 274.285227 224.64 \r\nL 277.328864 224.64 \r\nL 277.328864 224.598264 \r\nL 274.285227 224.598264 \r\nz\r\n\" style=\"fill:#1f77b4;\"/>\r\n   </g>\r\n   <g id=\"patch_74\">\r\n    <path clip-path=\"url(#p3f9e769292)\" d=\"M 277.328864 224.64 \r\nL 280.3725 224.64 \r\nL 280.3725 224.613441 \r\nL 277.328864 224.613441 \r\nz\r\n\" style=\"fill:#1f77b4;\"/>\r\n   </g>\r\n   <g id=\"patch_75\">\r\n    <path clip-path=\"url(#p3f9e769292)\" d=\"M 280.3725 224.64 \r\nL 283.416136 224.64 \r\nL 283.416136 224.617235 \r\nL 280.3725 224.617235 \r\nz\r\n\" style=\"fill:#1f77b4;\"/>\r\n   </g>\r\n   <g id=\"patch_76\">\r\n    <path clip-path=\"url(#p3f9e769292)\" d=\"M 283.416136 224.64 \r\nL 286.459773 224.64 \r\nL 286.459773 224.621029 \r\nL 283.416136 224.621029 \r\nz\r\n\" style=\"fill:#1f77b4;\"/>\r\n   </g>\r\n   <g id=\"patch_77\">\r\n    <path clip-path=\"url(#p3f9e769292)\" d=\"M 286.459773 224.64 \r\nL 289.503409 224.64 \r\nL 289.503409 224.624823 \r\nL 286.459773 224.624823 \r\nz\r\n\" style=\"fill:#1f77b4;\"/>\r\n   </g>\r\n   <g id=\"patch_78\">\r\n    <path clip-path=\"url(#p3f9e769292)\" d=\"M 289.503409 224.64 \r\nL 292.547045 224.64 \r\nL 292.547045 224.632412 \r\nL 289.503409 224.632412 \r\nz\r\n\" style=\"fill:#1f77b4;\"/>\r\n   </g>\r\n   <g id=\"patch_79\">\r\n    <path clip-path=\"url(#p3f9e769292)\" d=\"M 292.547045 224.64 \r\nL 295.590682 224.64 \r\nL 295.590682 224.636206 \r\nL 292.547045 224.636206 \r\nz\r\n\" style=\"fill:#1f77b4;\"/>\r\n   </g>\r\n   <g id=\"patch_80\">\r\n    <path clip-path=\"url(#p3f9e769292)\" d=\"M 295.590682 224.64 \r\nL 298.634318 224.64 \r\nL 298.634318 224.617235 \r\nL 295.590682 224.617235 \r\nz\r\n\" style=\"fill:#1f77b4;\"/>\r\n   </g>\r\n   <g id=\"patch_81\">\r\n    <path clip-path=\"url(#p3f9e769292)\" d=\"M 298.634318 224.64 \r\nL 301.677955 224.64 \r\nL 301.677955 224.617235 \r\nL 298.634318 224.617235 \r\nz\r\n\" style=\"fill:#1f77b4;\"/>\r\n   </g>\r\n   <g id=\"patch_82\">\r\n    <path clip-path=\"url(#p3f9e769292)\" d=\"M 301.677955 224.64 \r\nL 304.721591 224.64 \r\nL 304.721591 224.628617 \r\nL 301.677955 224.628617 \r\nz\r\n\" style=\"fill:#1f77b4;\"/>\r\n   </g>\r\n   <g id=\"patch_83\">\r\n    <path clip-path=\"url(#p3f9e769292)\" d=\"M 304.721591 224.64 \r\nL 307.765227 224.64 \r\nL 307.765227 224.632412 \r\nL 304.721591 224.632412 \r\nz\r\n\" style=\"fill:#1f77b4;\"/>\r\n   </g>\r\n   <g id=\"patch_84\">\r\n    <path clip-path=\"url(#p3f9e769292)\" d=\"M 307.765227 224.64 \r\nL 310.808864 224.64 \r\nL 310.808864 224.636206 \r\nL 307.765227 224.636206 \r\nz\r\n\" style=\"fill:#1f77b4;\"/>\r\n   </g>\r\n   <g id=\"patch_85\">\r\n    <path clip-path=\"url(#p3f9e769292)\" d=\"M 310.808864 224.64 \r\nL 313.8525 224.64 \r\nL 313.8525 224.628617 \r\nL 310.808864 224.628617 \r\nz\r\n\" style=\"fill:#1f77b4;\"/>\r\n   </g>\r\n   <g id=\"patch_86\">\r\n    <path clip-path=\"url(#p3f9e769292)\" d=\"M 313.8525 224.64 \r\nL 316.896136 224.64 \r\nL 316.896136 224.636206 \r\nL 313.8525 224.636206 \r\nz\r\n\" style=\"fill:#1f77b4;\"/>\r\n   </g>\r\n   <g id=\"patch_87\">\r\n    <path clip-path=\"url(#p3f9e769292)\" d=\"M 316.896136 224.64 \r\nL 319.939773 224.64 \r\nL 319.939773 224.636206 \r\nL 316.896136 224.636206 \r\nz\r\n\" style=\"fill:#1f77b4;\"/>\r\n   </g>\r\n   <g id=\"patch_88\">\r\n    <path clip-path=\"url(#p3f9e769292)\" d=\"M 319.939773 224.64 \r\nL 322.983409 224.64 \r\nL 322.983409 224.628617 \r\nL 319.939773 224.628617 \r\nz\r\n\" style=\"fill:#1f77b4;\"/>\r\n   </g>\r\n   <g id=\"patch_89\">\r\n    <path clip-path=\"url(#p3f9e769292)\" d=\"M 322.983409 224.64 \r\nL 326.027045 224.64 \r\nL 326.027045 224.636206 \r\nL 322.983409 224.636206 \r\nz\r\n\" style=\"fill:#1f77b4;\"/>\r\n   </g>\r\n   <g id=\"patch_90\">\r\n    <path clip-path=\"url(#p3f9e769292)\" d=\"M 326.027045 224.64 \r\nL 329.070682 224.64 \r\nL 329.070682 224.632412 \r\nL 326.027045 224.632412 \r\nz\r\n\" style=\"fill:#1f77b4;\"/>\r\n   </g>\r\n   <g id=\"patch_91\">\r\n    <path clip-path=\"url(#p3f9e769292)\" d=\"M 329.070682 224.64 \r\nL 332.114318 224.64 \r\nL 332.114318 224.632412 \r\nL 329.070682 224.632412 \r\nz\r\n\" style=\"fill:#1f77b4;\"/>\r\n   </g>\r\n   <g id=\"patch_92\">\r\n    <path clip-path=\"url(#p3f9e769292)\" d=\"M 332.114318 224.64 \r\nL 335.157955 224.64 \r\nL 335.157955 224.628617 \r\nL 332.114318 224.628617 \r\nz\r\n\" style=\"fill:#1f77b4;\"/>\r\n   </g>\r\n   <g id=\"patch_93\">\r\n    <path clip-path=\"url(#p3f9e769292)\" d=\"M 335.157955 224.64 \r\nL 338.201591 224.64 \r\nL 338.201591 224.632412 \r\nL 335.157955 224.632412 \r\nz\r\n\" style=\"fill:#1f77b4;\"/>\r\n   </g>\r\n   <g id=\"patch_94\">\r\n    <path clip-path=\"url(#p3f9e769292)\" d=\"M 338.201591 224.64 \r\nL 341.245227 224.64 \r\nL 341.245227 224.636206 \r\nL 338.201591 224.636206 \r\nz\r\n\" style=\"fill:#1f77b4;\"/>\r\n   </g>\r\n   <g id=\"patch_95\">\r\n    <path clip-path=\"url(#p3f9e769292)\" d=\"M 341.245227 224.64 \r\nL 344.288864 224.64 \r\nL 344.288864 224.64 \r\nL 341.245227 224.64 \r\nz\r\n\" style=\"fill:#1f77b4;\"/>\r\n   </g>\r\n   <g id=\"patch_96\">\r\n    <path clip-path=\"url(#p3f9e769292)\" d=\"M 344.288864 224.64 \r\nL 347.3325 224.64 \r\nL 347.3325 224.636206 \r\nL 344.288864 224.636206 \r\nz\r\n\" style=\"fill:#1f77b4;\"/>\r\n   </g>\r\n   <g id=\"patch_97\">\r\n    <path clip-path=\"url(#p3f9e769292)\" d=\"M 347.3325 224.64 \r\nL 350.376136 224.64 \r\nL 350.376136 224.64 \r\nL 347.3325 224.64 \r\nz\r\n\" style=\"fill:#1f77b4;\"/>\r\n   </g>\r\n   <g id=\"patch_98\">\r\n    <path clip-path=\"url(#p3f9e769292)\" d=\"M 350.376136 224.64 \r\nL 353.419773 224.64 \r\nL 353.419773 224.64 \r\nL 350.376136 224.64 \r\nz\r\n\" style=\"fill:#1f77b4;\"/>\r\n   </g>\r\n   <g id=\"patch_99\">\r\n    <path clip-path=\"url(#p3f9e769292)\" d=\"M 353.419773 224.64 \r\nL 356.463409 224.64 \r\nL 356.463409 224.64 \r\nL 353.419773 224.64 \r\nz\r\n\" style=\"fill:#1f77b4;\"/>\r\n   </g>\r\n   <g id=\"patch_100\">\r\n    <path clip-path=\"url(#p3f9e769292)\" d=\"M 356.463409 224.64 \r\nL 359.507045 224.64 \r\nL 359.507045 224.632412 \r\nL 356.463409 224.632412 \r\nz\r\n\" style=\"fill:#1f77b4;\"/>\r\n   </g>\r\n   <g id=\"patch_101\">\r\n    <path clip-path=\"url(#p3f9e769292)\" d=\"M 359.507045 224.64 \r\nL 362.550682 224.64 \r\nL 362.550682 224.64 \r\nL 359.507045 224.64 \r\nz\r\n\" style=\"fill:#1f77b4;\"/>\r\n   </g>\r\n   <g id=\"patch_102\">\r\n    <path clip-path=\"url(#p3f9e769292)\" d=\"M 362.550682 224.64 \r\nL 365.594318 224.64 \r\nL 365.594318 224.636206 \r\nL 362.550682 224.636206 \r\nz\r\n\" style=\"fill:#1f77b4;\"/>\r\n   </g>\r\n   <g id=\"matplotlib.axis_1\">\r\n    <g id=\"xtick_1\">\r\n     <g id=\"line2d_1\">\r\n      <defs>\r\n       <path d=\"M 0 0 \r\nL 0 3.5 \r\n\" id=\"m1daf5594ad\" style=\"stroke:#000000;stroke-width:0.8;\"/>\r\n      </defs>\r\n      <g>\r\n       <use style=\"stroke:#000000;stroke-width:0.8;\" x=\"85.271995\" xlink:href=\"#m1daf5594ad\" y=\"224.64\"/>\r\n      </g>\r\n     </g>\r\n     <g id=\"text_1\">\r\n      <!-- 6.75 -->\r\n      <defs>\r\n       <path d=\"M 33.015625 40.375 \r\nQ 26.375 40.375 22.484375 35.828125 \r\nQ 18.609375 31.296875 18.609375 23.390625 \r\nQ 18.609375 15.53125 22.484375 10.953125 \r\nQ 26.375 6.390625 33.015625 6.390625 \r\nQ 39.65625 6.390625 43.53125 10.953125 \r\nQ 47.40625 15.53125 47.40625 23.390625 \r\nQ 47.40625 31.296875 43.53125 35.828125 \r\nQ 39.65625 40.375 33.015625 40.375 \r\nz\r\nM 52.59375 71.296875 \r\nL 52.59375 62.3125 \r\nQ 48.875 64.0625 45.09375 64.984375 \r\nQ 41.3125 65.921875 37.59375 65.921875 \r\nQ 27.828125 65.921875 22.671875 59.328125 \r\nQ 17.53125 52.734375 16.796875 39.40625 \r\nQ 19.671875 43.65625 24.015625 45.921875 \r\nQ 28.375 48.1875 33.59375 48.1875 \r\nQ 44.578125 48.1875 50.953125 41.515625 \r\nQ 57.328125 34.859375 57.328125 23.390625 \r\nQ 57.328125 12.15625 50.6875 5.359375 \r\nQ 44.046875 -1.421875 33.015625 -1.421875 \r\nQ 20.359375 -1.421875 13.671875 8.265625 \r\nQ 6.984375 17.96875 6.984375 36.375 \r\nQ 6.984375 53.65625 15.1875 63.9375 \r\nQ 23.390625 74.21875 37.203125 74.21875 \r\nQ 40.921875 74.21875 44.703125 73.484375 \r\nQ 48.484375 72.75 52.59375 71.296875 \r\nz\r\n\" id=\"DejaVuSans-54\"/>\r\n       <path d=\"M 10.6875 12.40625 \r\nL 21 12.40625 \r\nL 21 0 \r\nL 10.6875 0 \r\nz\r\n\" id=\"DejaVuSans-46\"/>\r\n       <path d=\"M 8.203125 72.90625 \r\nL 55.078125 72.90625 \r\nL 55.078125 68.703125 \r\nL 28.609375 0 \r\nL 18.3125 0 \r\nL 43.21875 64.59375 \r\nL 8.203125 64.59375 \r\nz\r\n\" id=\"DejaVuSans-55\"/>\r\n       <path d=\"M 10.796875 72.90625 \r\nL 49.515625 72.90625 \r\nL 49.515625 64.59375 \r\nL 19.828125 64.59375 \r\nL 19.828125 46.734375 \r\nQ 21.96875 47.46875 24.109375 47.828125 \r\nQ 26.265625 48.1875 28.421875 48.1875 \r\nQ 40.625 48.1875 47.75 41.5 \r\nQ 54.890625 34.8125 54.890625 23.390625 \r\nQ 54.890625 11.625 47.5625 5.09375 \r\nQ 40.234375 -1.421875 26.90625 -1.421875 \r\nQ 22.3125 -1.421875 17.546875 -0.640625 \r\nQ 12.796875 0.140625 7.71875 1.703125 \r\nL 7.71875 11.625 \r\nQ 12.109375 9.234375 16.796875 8.0625 \r\nQ 21.484375 6.890625 26.703125 6.890625 \r\nQ 35.15625 6.890625 40.078125 11.328125 \r\nQ 45.015625 15.765625 45.015625 23.390625 \r\nQ 45.015625 31 40.078125 35.4375 \r\nQ 35.15625 39.890625 26.703125 39.890625 \r\nQ 22.75 39.890625 18.8125 39.015625 \r\nQ 14.890625 38.140625 10.796875 36.28125 \r\nz\r\n\" id=\"DejaVuSans-53\"/>\r\n      </defs>\r\n      <g transform=\"translate(74.139182 239.238438)scale(0.1 -0.1)\">\r\n       <use xlink:href=\"#DejaVuSans-54\"/>\r\n       <use x=\"63.623047\" xlink:href=\"#DejaVuSans-46\"/>\r\n       <use x=\"95.410156\" xlink:href=\"#DejaVuSans-55\"/>\r\n       <use x=\"159.033203\" xlink:href=\"#DejaVuSans-53\"/>\r\n      </g>\r\n     </g>\r\n    </g>\r\n    <g id=\"xtick_2\">\r\n     <g id=\"line2d_2\">\r\n      <g>\r\n       <use style=\"stroke:#000000;stroke-width:0.8;\" x=\"127.827923\" xlink:href=\"#m1daf5594ad\" y=\"224.64\"/>\r\n      </g>\r\n     </g>\r\n     <g id=\"text_2\">\r\n      <!-- 7.00 -->\r\n      <defs>\r\n       <path d=\"M 31.78125 66.40625 \r\nQ 24.171875 66.40625 20.328125 58.90625 \r\nQ 16.5 51.421875 16.5 36.375 \r\nQ 16.5 21.390625 20.328125 13.890625 \r\nQ 24.171875 6.390625 31.78125 6.390625 \r\nQ 39.453125 6.390625 43.28125 13.890625 \r\nQ 47.125 21.390625 47.125 36.375 \r\nQ 47.125 51.421875 43.28125 58.90625 \r\nQ 39.453125 66.40625 31.78125 66.40625 \r\nz\r\nM 31.78125 74.21875 \r\nQ 44.046875 74.21875 50.515625 64.515625 \r\nQ 56.984375 54.828125 56.984375 36.375 \r\nQ 56.984375 17.96875 50.515625 8.265625 \r\nQ 44.046875 -1.421875 31.78125 -1.421875 \r\nQ 19.53125 -1.421875 13.0625 8.265625 \r\nQ 6.59375 17.96875 6.59375 36.375 \r\nQ 6.59375 54.828125 13.0625 64.515625 \r\nQ 19.53125 74.21875 31.78125 74.21875 \r\nz\r\n\" id=\"DejaVuSans-48\"/>\r\n      </defs>\r\n      <g transform=\"translate(116.695111 239.238438)scale(0.1 -0.1)\">\r\n       <use xlink:href=\"#DejaVuSans-55\"/>\r\n       <use x=\"63.623047\" xlink:href=\"#DejaVuSans-46\"/>\r\n       <use x=\"95.410156\" xlink:href=\"#DejaVuSans-48\"/>\r\n       <use x=\"159.033203\" xlink:href=\"#DejaVuSans-48\"/>\r\n      </g>\r\n     </g>\r\n    </g>\r\n    <g id=\"xtick_3\">\r\n     <g id=\"line2d_3\">\r\n      <g>\r\n       <use style=\"stroke:#000000;stroke-width:0.8;\" x=\"170.383852\" xlink:href=\"#m1daf5594ad\" y=\"224.64\"/>\r\n      </g>\r\n     </g>\r\n     <g id=\"text_3\">\r\n      <!-- 7.25 -->\r\n      <defs>\r\n       <path d=\"M 19.1875 8.296875 \r\nL 53.609375 8.296875 \r\nL 53.609375 0 \r\nL 7.328125 0 \r\nL 7.328125 8.296875 \r\nQ 12.9375 14.109375 22.625 23.890625 \r\nQ 32.328125 33.6875 34.8125 36.53125 \r\nQ 39.546875 41.84375 41.421875 45.53125 \r\nQ 43.3125 49.21875 43.3125 52.78125 \r\nQ 43.3125 58.59375 39.234375 62.25 \r\nQ 35.15625 65.921875 28.609375 65.921875 \r\nQ 23.96875 65.921875 18.8125 64.3125 \r\nQ 13.671875 62.703125 7.8125 59.421875 \r\nL 7.8125 69.390625 \r\nQ 13.765625 71.78125 18.9375 73 \r\nQ 24.125 74.21875 28.421875 74.21875 \r\nQ 39.75 74.21875 46.484375 68.546875 \r\nQ 53.21875 62.890625 53.21875 53.421875 \r\nQ 53.21875 48.921875 51.53125 44.890625 \r\nQ 49.859375 40.875 45.40625 35.40625 \r\nQ 44.1875 33.984375 37.640625 27.21875 \r\nQ 31.109375 20.453125 19.1875 8.296875 \r\nz\r\n\" id=\"DejaVuSans-50\"/>\r\n      </defs>\r\n      <g transform=\"translate(159.251039 239.238438)scale(0.1 -0.1)\">\r\n       <use xlink:href=\"#DejaVuSans-55\"/>\r\n       <use x=\"63.623047\" xlink:href=\"#DejaVuSans-46\"/>\r\n       <use x=\"95.410156\" xlink:href=\"#DejaVuSans-50\"/>\r\n       <use x=\"159.033203\" xlink:href=\"#DejaVuSans-53\"/>\r\n      </g>\r\n     </g>\r\n    </g>\r\n    <g id=\"xtick_4\">\r\n     <g id=\"line2d_4\">\r\n      <g>\r\n       <use style=\"stroke:#000000;stroke-width:0.8;\" x=\"212.93978\" xlink:href=\"#m1daf5594ad\" y=\"224.64\"/>\r\n      </g>\r\n     </g>\r\n     <g id=\"text_4\">\r\n      <!-- 7.50 -->\r\n      <g transform=\"translate(201.806968 239.238438)scale(0.1 -0.1)\">\r\n       <use xlink:href=\"#DejaVuSans-55\"/>\r\n       <use x=\"63.623047\" xlink:href=\"#DejaVuSans-46\"/>\r\n       <use x=\"95.410156\" xlink:href=\"#DejaVuSans-53\"/>\r\n       <use x=\"159.033203\" xlink:href=\"#DejaVuSans-48\"/>\r\n      </g>\r\n     </g>\r\n    </g>\r\n    <g id=\"xtick_5\">\r\n     <g id=\"line2d_5\">\r\n      <g>\r\n       <use style=\"stroke:#000000;stroke-width:0.8;\" x=\"255.495709\" xlink:href=\"#m1daf5594ad\" y=\"224.64\"/>\r\n      </g>\r\n     </g>\r\n     <g id=\"text_5\">\r\n      <!-- 7.75 -->\r\n      <g transform=\"translate(244.362896 239.238438)scale(0.1 -0.1)\">\r\n       <use xlink:href=\"#DejaVuSans-55\"/>\r\n       <use x=\"63.623047\" xlink:href=\"#DejaVuSans-46\"/>\r\n       <use x=\"95.410156\" xlink:href=\"#DejaVuSans-55\"/>\r\n       <use x=\"159.033203\" xlink:href=\"#DejaVuSans-53\"/>\r\n      </g>\r\n     </g>\r\n    </g>\r\n    <g id=\"xtick_6\">\r\n     <g id=\"line2d_6\">\r\n      <g>\r\n       <use style=\"stroke:#000000;stroke-width:0.8;\" x=\"298.051638\" xlink:href=\"#m1daf5594ad\" y=\"224.64\"/>\r\n      </g>\r\n     </g>\r\n     <g id=\"text_6\">\r\n      <!-- 8.00 -->\r\n      <defs>\r\n       <path d=\"M 31.78125 34.625 \r\nQ 24.75 34.625 20.71875 30.859375 \r\nQ 16.703125 27.09375 16.703125 20.515625 \r\nQ 16.703125 13.921875 20.71875 10.15625 \r\nQ 24.75 6.390625 31.78125 6.390625 \r\nQ 38.8125 6.390625 42.859375 10.171875 \r\nQ 46.921875 13.96875 46.921875 20.515625 \r\nQ 46.921875 27.09375 42.890625 30.859375 \r\nQ 38.875 34.625 31.78125 34.625 \r\nz\r\nM 21.921875 38.8125 \r\nQ 15.578125 40.375 12.03125 44.71875 \r\nQ 8.5 49.078125 8.5 55.328125 \r\nQ 8.5 64.0625 14.71875 69.140625 \r\nQ 20.953125 74.21875 31.78125 74.21875 \r\nQ 42.671875 74.21875 48.875 69.140625 \r\nQ 55.078125 64.0625 55.078125 55.328125 \r\nQ 55.078125 49.078125 51.53125 44.71875 \r\nQ 48 40.375 41.703125 38.8125 \r\nQ 48.828125 37.15625 52.796875 32.3125 \r\nQ 56.78125 27.484375 56.78125 20.515625 \r\nQ 56.78125 9.90625 50.3125 4.234375 \r\nQ 43.84375 -1.421875 31.78125 -1.421875 \r\nQ 19.734375 -1.421875 13.25 4.234375 \r\nQ 6.78125 9.90625 6.78125 20.515625 \r\nQ 6.78125 27.484375 10.78125 32.3125 \r\nQ 14.796875 37.15625 21.921875 38.8125 \r\nz\r\nM 18.3125 54.390625 \r\nQ 18.3125 48.734375 21.84375 45.5625 \r\nQ 25.390625 42.390625 31.78125 42.390625 \r\nQ 38.140625 42.390625 41.71875 45.5625 \r\nQ 45.3125 48.734375 45.3125 54.390625 \r\nQ 45.3125 60.0625 41.71875 63.234375 \r\nQ 38.140625 66.40625 31.78125 66.40625 \r\nQ 25.390625 66.40625 21.84375 63.234375 \r\nQ 18.3125 60.0625 18.3125 54.390625 \r\nz\r\n\" id=\"DejaVuSans-56\"/>\r\n      </defs>\r\n      <g transform=\"translate(286.918825 239.238438)scale(0.1 -0.1)\">\r\n       <use xlink:href=\"#DejaVuSans-56\"/>\r\n       <use x=\"63.623047\" xlink:href=\"#DejaVuSans-46\"/>\r\n       <use x=\"95.410156\" xlink:href=\"#DejaVuSans-48\"/>\r\n       <use x=\"159.033203\" xlink:href=\"#DejaVuSans-48\"/>\r\n      </g>\r\n     </g>\r\n    </g>\r\n    <g id=\"xtick_7\">\r\n     <g id=\"line2d_7\">\r\n      <g>\r\n       <use style=\"stroke:#000000;stroke-width:0.8;\" x=\"340.607566\" xlink:href=\"#m1daf5594ad\" y=\"224.64\"/>\r\n      </g>\r\n     </g>\r\n     <g id=\"text_7\">\r\n      <!-- 8.25 -->\r\n      <g transform=\"translate(329.474754 239.238438)scale(0.1 -0.1)\">\r\n       <use xlink:href=\"#DejaVuSans-56\"/>\r\n       <use x=\"63.623047\" xlink:href=\"#DejaVuSans-46\"/>\r\n       <use x=\"95.410156\" xlink:href=\"#DejaVuSans-50\"/>\r\n       <use x=\"159.033203\" xlink:href=\"#DejaVuSans-53\"/>\r\n      </g>\r\n     </g>\r\n    </g>\r\n   </g>\r\n   <g id=\"matplotlib.axis_2\">\r\n    <g id=\"ytick_1\">\r\n     <g id=\"line2d_8\">\r\n      <defs>\r\n       <path d=\"M 0 0 \r\nL -3.5 0 \r\n\" id=\"mcea2a7f09e\" style=\"stroke:#000000;stroke-width:0.8;\"/>\r\n      </defs>\r\n      <g>\r\n       <use style=\"stroke:#000000;stroke-width:0.8;\" x=\"46.0125\" xlink:href=\"#mcea2a7f09e\" y=\"224.64\"/>\r\n      </g>\r\n     </g>\r\n     <g id=\"text_8\">\r\n      <!-- 0 -->\r\n      <g transform=\"translate(32.65 228.439219)scale(0.1 -0.1)\">\r\n       <use xlink:href=\"#DejaVuSans-48\"/>\r\n      </g>\r\n     </g>\r\n    </g>\r\n    <g id=\"ytick_2\">\r\n     <g id=\"line2d_9\">\r\n      <g>\r\n       <use style=\"stroke:#000000;stroke-width:0.8;\" x=\"46.0125\" xlink:href=\"#mcea2a7f09e\" y=\"186.698315\"/>\r\n      </g>\r\n     </g>\r\n     <g id=\"text_9\">\r\n      <!-- 10000 -->\r\n      <defs>\r\n       <path d=\"M 12.40625 8.296875 \r\nL 28.515625 8.296875 \r\nL 28.515625 63.921875 \r\nL 10.984375 60.40625 \r\nL 10.984375 69.390625 \r\nL 28.421875 72.90625 \r\nL 38.28125 72.90625 \r\nL 38.28125 8.296875 \r\nL 54.390625 8.296875 \r\nL 54.390625 0 \r\nL 12.40625 0 \r\nz\r\n\" id=\"DejaVuSans-49\"/>\r\n      </defs>\r\n      <g transform=\"translate(7.2 190.497534)scale(0.1 -0.1)\">\r\n       <use xlink:href=\"#DejaVuSans-49\"/>\r\n       <use x=\"63.623047\" xlink:href=\"#DejaVuSans-48\"/>\r\n       <use x=\"127.246094\" xlink:href=\"#DejaVuSans-48\"/>\r\n       <use x=\"190.869141\" xlink:href=\"#DejaVuSans-48\"/>\r\n       <use x=\"254.492188\" xlink:href=\"#DejaVuSans-48\"/>\r\n      </g>\r\n     </g>\r\n    </g>\r\n    <g id=\"ytick_3\">\r\n     <g id=\"line2d_10\">\r\n      <g>\r\n       <use style=\"stroke:#000000;stroke-width:0.8;\" x=\"46.0125\" xlink:href=\"#mcea2a7f09e\" y=\"148.756631\"/>\r\n      </g>\r\n     </g>\r\n     <g id=\"text_10\">\r\n      <!-- 20000 -->\r\n      <g transform=\"translate(7.2 152.55585)scale(0.1 -0.1)\">\r\n       <use xlink:href=\"#DejaVuSans-50\"/>\r\n       <use x=\"63.623047\" xlink:href=\"#DejaVuSans-48\"/>\r\n       <use x=\"127.246094\" xlink:href=\"#DejaVuSans-48\"/>\r\n       <use x=\"190.869141\" xlink:href=\"#DejaVuSans-48\"/>\r\n       <use x=\"254.492188\" xlink:href=\"#DejaVuSans-48\"/>\r\n      </g>\r\n     </g>\r\n    </g>\r\n    <g id=\"ytick_4\">\r\n     <g id=\"line2d_11\">\r\n      <g>\r\n       <use style=\"stroke:#000000;stroke-width:0.8;\" x=\"46.0125\" xlink:href=\"#mcea2a7f09e\" y=\"110.814946\"/>\r\n      </g>\r\n     </g>\r\n     <g id=\"text_11\">\r\n      <!-- 30000 -->\r\n      <defs>\r\n       <path d=\"M 40.578125 39.3125 \r\nQ 47.65625 37.796875 51.625 33 \r\nQ 55.609375 28.21875 55.609375 21.1875 \r\nQ 55.609375 10.40625 48.1875 4.484375 \r\nQ 40.765625 -1.421875 27.09375 -1.421875 \r\nQ 22.515625 -1.421875 17.65625 -0.515625 \r\nQ 12.796875 0.390625 7.625 2.203125 \r\nL 7.625 11.71875 \r\nQ 11.71875 9.328125 16.59375 8.109375 \r\nQ 21.484375 6.890625 26.8125 6.890625 \r\nQ 36.078125 6.890625 40.9375 10.546875 \r\nQ 45.796875 14.203125 45.796875 21.1875 \r\nQ 45.796875 27.640625 41.28125 31.265625 \r\nQ 36.765625 34.90625 28.71875 34.90625 \r\nL 20.21875 34.90625 \r\nL 20.21875 43.015625 \r\nL 29.109375 43.015625 \r\nQ 36.375 43.015625 40.234375 45.921875 \r\nQ 44.09375 48.828125 44.09375 54.296875 \r\nQ 44.09375 59.90625 40.109375 62.90625 \r\nQ 36.140625 65.921875 28.71875 65.921875 \r\nQ 24.65625 65.921875 20.015625 65.03125 \r\nQ 15.375 64.15625 9.8125 62.3125 \r\nL 9.8125 71.09375 \r\nQ 15.4375 72.65625 20.34375 73.4375 \r\nQ 25.25 74.21875 29.59375 74.21875 \r\nQ 40.828125 74.21875 47.359375 69.109375 \r\nQ 53.90625 64.015625 53.90625 55.328125 \r\nQ 53.90625 49.265625 50.4375 45.09375 \r\nQ 46.96875 40.921875 40.578125 39.3125 \r\nz\r\n\" id=\"DejaVuSans-51\"/>\r\n      </defs>\r\n      <g transform=\"translate(7.2 114.614165)scale(0.1 -0.1)\">\r\n       <use xlink:href=\"#DejaVuSans-51\"/>\r\n       <use x=\"63.623047\" xlink:href=\"#DejaVuSans-48\"/>\r\n       <use x=\"127.246094\" xlink:href=\"#DejaVuSans-48\"/>\r\n       <use x=\"190.869141\" xlink:href=\"#DejaVuSans-48\"/>\r\n       <use x=\"254.492188\" xlink:href=\"#DejaVuSans-48\"/>\r\n      </g>\r\n     </g>\r\n    </g>\r\n    <g id=\"ytick_5\">\r\n     <g id=\"line2d_12\">\r\n      <g>\r\n       <use style=\"stroke:#000000;stroke-width:0.8;\" x=\"46.0125\" xlink:href=\"#mcea2a7f09e\" y=\"72.873262\"/>\r\n      </g>\r\n     </g>\r\n     <g id=\"text_12\">\r\n      <!-- 40000 -->\r\n      <defs>\r\n       <path d=\"M 37.796875 64.3125 \r\nL 12.890625 25.390625 \r\nL 37.796875 25.390625 \r\nz\r\nM 35.203125 72.90625 \r\nL 47.609375 72.90625 \r\nL 47.609375 25.390625 \r\nL 58.015625 25.390625 \r\nL 58.015625 17.1875 \r\nL 47.609375 17.1875 \r\nL 47.609375 0 \r\nL 37.796875 0 \r\nL 37.796875 17.1875 \r\nL 4.890625 17.1875 \r\nL 4.890625 26.703125 \r\nz\r\n\" id=\"DejaVuSans-52\"/>\r\n      </defs>\r\n      <g transform=\"translate(7.2 76.672481)scale(0.1 -0.1)\">\r\n       <use xlink:href=\"#DejaVuSans-52\"/>\r\n       <use x=\"63.623047\" xlink:href=\"#DejaVuSans-48\"/>\r\n       <use x=\"127.246094\" xlink:href=\"#DejaVuSans-48\"/>\r\n       <use x=\"190.869141\" xlink:href=\"#DejaVuSans-48\"/>\r\n       <use x=\"254.492188\" xlink:href=\"#DejaVuSans-48\"/>\r\n      </g>\r\n     </g>\r\n    </g>\r\n    <g id=\"ytick_6\">\r\n     <g id=\"line2d_13\">\r\n      <g>\r\n       <use style=\"stroke:#000000;stroke-width:0.8;\" x=\"46.0125\" xlink:href=\"#mcea2a7f09e\" y=\"34.931577\"/>\r\n      </g>\r\n     </g>\r\n     <g id=\"text_13\">\r\n      <!-- 50000 -->\r\n      <g transform=\"translate(7.2 38.730796)scale(0.1 -0.1)\">\r\n       <use xlink:href=\"#DejaVuSans-53\"/>\r\n       <use x=\"63.623047\" xlink:href=\"#DejaVuSans-48\"/>\r\n       <use x=\"127.246094\" xlink:href=\"#DejaVuSans-48\"/>\r\n       <use x=\"190.869141\" xlink:href=\"#DejaVuSans-48\"/>\r\n       <use x=\"254.492188\" xlink:href=\"#DejaVuSans-48\"/>\r\n      </g>\r\n     </g>\r\n    </g>\r\n   </g>\r\n   <g id=\"patch_103\">\r\n    <path d=\"M 46.0125 224.64 \r\nL 46.0125 7.2 \r\n\" style=\"fill:none;stroke:#000000;stroke-linecap:square;stroke-linejoin:miter;stroke-width:0.8;\"/>\r\n   </g>\r\n   <g id=\"patch_104\">\r\n    <path d=\"M 380.8125 224.64 \r\nL 380.8125 7.2 \r\n\" style=\"fill:none;stroke:#000000;stroke-linecap:square;stroke-linejoin:miter;stroke-width:0.8;\"/>\r\n   </g>\r\n   <g id=\"patch_105\">\r\n    <path d=\"M 46.0125 224.64 \r\nL 380.8125 224.64 \r\n\" style=\"fill:none;stroke:#000000;stroke-linecap:square;stroke-linejoin:miter;stroke-width:0.8;\"/>\r\n   </g>\r\n   <g id=\"patch_106\">\r\n    <path d=\"M 46.0125 7.2 \r\nL 380.8125 7.2 \r\n\" style=\"fill:none;stroke:#000000;stroke-linecap:square;stroke-linejoin:miter;stroke-width:0.8;\"/>\r\n   </g>\r\n  </g>\r\n </g>\r\n <defs>\r\n  <clipPath id=\"p3f9e769292\">\r\n   <rect height=\"217.44\" width=\"334.8\" x=\"46.0125\" y=\"7.2\"/>\r\n  </clipPath>\r\n </defs>\r\n</svg>\r\n",
      "image/png": "[encoded data removed]"
     },
     "metadata": {
      "needs_background": "light"
     }
    }
   ],
   "source": [
    "import numpy as np\n",
    "import matplotlib.pyplot as plt\n",
    "\n",
    "\n",
    "plt.figure()\n",
    "hist = plt.hist(als.elevation[np.isfinite(als.elevation)], bins=100)\n"
   ]
  },
  {
   "cell_type": "code",
   "execution_count": null,
   "metadata": {},
   "outputs": [],
   "source": []
  }
 ],
 "metadata": {
  "language_info": {
   "codemirror_mode": {
    "name": "ipython",
    "version": 3
   },
   "file_extension": ".py",
   "mimetype": "text/x-python",
   "name": "python",
   "nbconvert_exporter": "python",
   "pygments_lexer": "ipython3",
   "version": "3.7.6-final"
  },
  "orig_nbformat": 2,
  "kernelspec": {
   "name": "python37664bitpython37baseconda6a4044aa69e949d6894babb424b47e74",
   "display_name": "Python 3.7.6 64-bit ('python3.7-base': conda)"
  }
 },
 "nbformat": 4,
 "nbformat_minor": 2
}
